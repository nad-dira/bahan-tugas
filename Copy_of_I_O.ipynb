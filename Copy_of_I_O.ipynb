{
  "nbformat": 4,
  "nbformat_minor": 0,
  "metadata": {
    "colab": {
      "provenance": [],
      "collapsed_sections": [],
      "authorship_tag": "ABX9TyNxh2NEK7zpG04EIo7Zy3Rj",
      "include_colab_link": true
    },
    "kernelspec": {
      "name": "python3",
      "display_name": "Python 3"
    },
    "language_info": {
      "name": "python"
    }
  },
  "cells": [
    {
      "cell_type": "markdown",
      "metadata": {
        "id": "view-in-github",
        "colab_type": "text"
      },
      "source": [
        "<a href=\"https://colab.research.google.com/github/nad-dira/bahan-tugas/blob/main/Copy_of_I_O.ipynb\" target=\"_parent\"><img src=\"https://colab.research.google.com/assets/colab-badge.svg\" alt=\"Open In Colab\"/></a>"
      ]
    },
    {
      "cell_type": "code",
      "execution_count": null,
      "metadata": {
        "colab": {
          "base_uri": "https://localhost:8080/"
        },
        "id": "_oKWnoUzspP-",
        "outputId": "fb9f7e97-e2f0-49db-82ab-24259356367a"
      },
      "outputs": [
        {
          "output_type": "stream",
          "name": "stdout",
          "text": [
            "masukan angka:10\n",
            "100.0\n"
          ]
        }
      ],
      "source": [
        "angka = float(input(\"masukan angka:\"))\n",
        "hasil = 10 * angka \n",
        "print(hasil)"
      ]
    },
    {
      "cell_type": "code",
      "source": [
        "angka = float(input(\"masukan angka:\"))\n",
        "hasil = 10 * angka \n",
        "print(\"perkalian 10 x %.2f = %.2f\"%(angka, hasil))\n",
        "print(\"perkalian 10 x\",angka,\"=\", hasil )"
      ],
      "metadata": {
        "colab": {
          "base_uri": "https://localhost:8080/"
        },
        "id": "4xOuprFYus-u",
        "outputId": "c75e2257-0cb0-49c5-8ece-0731cf789e21"
      },
      "execution_count": null,
      "outputs": [
        {
          "output_type": "stream",
          "name": "stdout",
          "text": [
            "masukan angka:20\n",
            "perkalian 10 x 20.00 = 200.00\n",
            "perkalian 10 x 20.0 = 200.0\n"
          ]
        }
      ]
    },
    {
      "cell_type": "code",
      "source": [
        "#contoh mencari rumus bangun ruang\n",
        "print(\"-----Rumus Bangun Ruang-----\")\n",
        "print(\"Pilih Rumus Bangun Ruang:\"\n",
        "\"\\n1.Lingkaran\"\n",
        "\"\\n2.Segitiga\"\n",
        "\"\\n3.Persegi Panjang\")\n",
        "pilihan = int(input(\"pilih rumus keberapa\"))\n",
        "if (pilihan == 1):\n",
        "  bidang = \"lingkaran\"\n",
        "  jari2 = float(input(\"Masukan Jari-Jari:\"))\n",
        "  luas = 3.14 * Jari2 * jari2\n",
        "  print(\"Bidang %s dengan jari-jari %.2f luasnya = %.2f\" (bidang,jari2,luas))\n",
        "elif(pilihan ==2):\n",
        "    bidang = \"Segitiga\"\n",
        "    alas = float(input(\"Masukan Alas:\"))\n",
        "    tinggi = float (input(\"Masukan tinggi:\"))\n",
        "    luas = 0.5 * alas * tinggi\n",
        "elif(pilihan ==3):\n",
        "  bidang = \"Persegi Panjang\"\n",
        "  p = float(input(\"Masukan Panjang:\"))\n",
        "  l = float(input(\"Masukan Lebar:\"))\n",
        "  luas = p * l\n",
        "  print(\"Bidang %s dengan panjang %.2f dan lebar %.2f luasnya = %.2f\" %(bidang, p, l, luas))\n",
        "else:\n",
        "  print(\"No. Rumus yang anda pilih tidak ada\")"
      ],
      "metadata": {
        "colab": {
          "base_uri": "https://localhost:8080/"
        },
        "id": "FnJ8ygwXxT_P",
        "outputId": "8f98c4bd-9553-492e-aa01-ec4c4cb1ca6d"
      },
      "execution_count": null,
      "outputs": [
        {
          "output_type": "stream",
          "name": "stdout",
          "text": [
            "-----Rumus Bangun Ruang-----\n",
            "Pilih Rumus Bangun Ruang:\n",
            "1.Lingkaran\n",
            "2.Segitiga\n",
            "3.Persegi Panjang\n"
          ]
        }
      ]
    },
    {
      "cell_type": "code",
      "source": [],
      "metadata": {
        "id": "xBTBy0Yg5B_C"
      },
      "execution_count": null,
      "outputs": []
    },
    {
      "cell_type": "markdown",
      "source": [
        "TUGAS PERTAMA DAN KEDUA BISA MENJAWAAB UJIAN"
      ],
      "metadata": {
        "id": "sfXVrqLO48fK"
      }
    }
  ]
}